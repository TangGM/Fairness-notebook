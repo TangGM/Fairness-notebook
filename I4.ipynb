{
 "cells": [
  {
   "cell_type": "code",
   "execution_count": 1,
   "metadata": {},
   "outputs": [],
   "source": [
    "# Load the librarys\n",
    "import pandas as pd #To work with dataset\n",
    "import numpy as np #Math library\n",
    "import seaborn as sns #Graph library that use matplot in background\n",
    "import matplotlib.pyplot as plt #to plot some parameters in seaborn\n",
    "\n",
    "from sklearn.model_selection import train_test_split, KFold, cross_val_score # to split the data\n",
    "from sklearn.metrics import accuracy_score, confusion_matrix, classification_report, fbeta_score #To evaluate our model\n",
    "from sklearn.naive_bayes import GaussianNB\n",
    "from sklearn.metrics import roc_auc_score\n",
    "from sklearn.metrics import roc_curve\n",
    "from sklearn.utils import resample\n",
    "\n",
    "\n",
    "# Importing the data\n",
    "df_credit = pd.read_csv(\"./data/german_credit_data.csv\", index_col=0)"
   ]
  },
  {
   "cell_type": "markdown",
   "metadata": {},
   "source": [
    "## Preprocessing"
   ]
  },
  {
   "cell_type": "code",
   "execution_count": 2,
   "metadata": {},
   "outputs": [],
   "source": [
    "# set age category\n",
    "interval = (18, 25, 35, 60, 120)\n",
    "\n",
    "cats = ['Student', 'Young', 'Adult', 'Senior']\n",
    "df_credit[\"Age_cat\"] = pd.cut(df_credit.Age, interval, labels=cats)\n",
    "\n",
    "\n",
    "df_good = df_credit[df_credit[\"Risk\"] == 'good']\n",
    "df_bad = df_credit[df_credit[\"Risk\"] == 'bad']\n",
    "\n",
    "df_credit['Saving accounts'] = df_credit['Saving accounts'].fillna('no_inf')\n",
    "df_credit['Checking account'] = df_credit['Checking account'].fillna('no_inf')\n",
    "\n",
    "# Purpose to Dummies Variable\n",
    "df_credit = df_credit.merge(pd.get_dummies(df_credit.Purpose, drop_first=True, prefix='Purpose'), left_index=True, right_index=True)\n",
    "# Sex feature in dummies\n",
    "df_credit = df_credit.merge(pd.get_dummies(df_credit.Sex, drop_first=True, prefix='Sex'), left_index=True, right_index=True)\n",
    "# Housing get dummies\n",
    "df_credit = df_credit.merge(pd.get_dummies(df_credit.Housing, drop_first=True, prefix='Housing'), left_index=True, right_index=True)\n",
    "# Housing get Saving Accounts\n",
    "df_credit = df_credit.merge(pd.get_dummies(df_credit[\"Saving accounts\"], drop_first=True, prefix='Savings'), left_index=True, right_index=True)\n",
    "# Housing get Risk\n",
    "df_credit = df_credit.merge(pd.get_dummies(df_credit.Risk, prefix='Risk'), left_index=True, right_index=True)\n",
    "# Housing get Checking Account\n",
    "df_credit = df_credit.merge(pd.get_dummies(df_credit[\"Checking account\"], drop_first=True, prefix='Check'), left_index=True, right_index=True)\n",
    "# Housing get Age categorical\n",
    "df_credit = df_credit.merge(pd.get_dummies(df_credit[\"Age_cat\"], drop_first=True, prefix='Age_cat'), left_index=True, right_index=True)"
   ]
  },
  {
   "cell_type": "code",
   "execution_count": 3,
   "metadata": {},
   "outputs": [],
   "source": [
    "def one_hot_encoder(df, nan_as_category = False):\n",
    "    original_columns = list(df.columns)\n",
    "    categorical_columns = [col for col in df.columns if df[col].dtype == 'object']\n",
    "    df = pd.get_dummies(df, columns= categorical_columns, dummy_na= nan_as_category, drop_first=True)\n",
    "    new_columns = [c for c in df.columns if c not in original_columns]\n",
    "    return df, new_columns"
   ]
  },
  {
   "cell_type": "code",
   "execution_count": 4,
   "metadata": {},
   "outputs": [
    {
     "name": "stdout",
     "output_type": "stream",
     "text": [
      "Sex               female  male\n",
      "Checking account              \n",
      "little                88   186\n",
      "moderate              86   183\n",
      "no_inf               116   278\n",
      "rich                  20    43\n"
     ]
    }
   ],
   "source": [
    "print(pd.crosstab(df_credit[\"Checking account\"],df_credit.Sex))"
   ]
  },
  {
   "cell_type": "code",
   "execution_count": 5,
   "metadata": {},
   "outputs": [],
   "source": [
    "# Excluding unused columns\n",
    "del df_credit[\"Saving accounts\"]\n",
    "del df_credit[\"Checking account\"]\n",
    "del df_credit[\"Purpose\"]\n",
    "# del df_credit[\"Sex\"]\n",
    "del df_credit[\"Housing\"]\n",
    "# del df_credit[\"Age_cat\"]\n",
    "del df_credit[\"Risk\"]\n",
    "del df_credit['Risk_good']"
   ]
  },
  {
   "cell_type": "code",
   "execution_count": 6,
   "metadata": {},
   "outputs": [],
   "source": [
    "# Transform string to integer\n",
    "df_credit['Credit amount'] = np.log(df_credit['Credit amount'])\n",
    "df_credit['Sex'].replace('female', 0,inplace=True)\n",
    "df_credit['Sex'].replace('male', 1, inplace=True)\n",
    "\n",
    "# set the age also to binary group\n",
    "df_credit['Age_cat'].replace('Student', 0,inplace=True)\n",
    "df_credit['Age_cat'].replace('Young', 0, inplace=True)\n",
    "df_credit['Age_cat'].replace('Adult', 1, inplace=True)\n",
    "df_credit['Age_cat'].replace('Senior', 1, inplace=True)"
   ]
  },
  {
   "cell_type": "code",
   "execution_count": 7,
   "metadata": {},
   "outputs": [],
   "source": [
    "def get_training_result(df, show_fairness_measures = True):\n",
    "    #Creating the X and y variables\n",
    "    X = df.drop('Risk_bad', 1).values\n",
    "    y = df[\"Risk_bad\"].values\n",
    "\n",
    "    # Spliting X and y into train and test version\n",
    "    X_train, X_test, y_train, y_test = train_test_split(X, y, test_size = 0.36, random_state=42)\n",
    "\n",
    "    # Criando o classificador logreg\n",
    "    GNB = GaussianNB()\n",
    "\n",
    "    # Fitting with train data\n",
    "    model = GNB.fit(X_train, y_train)\n",
    "\n",
    "    y_pred = model.predict(X_test)\n",
    "\n",
    "    print(\"Accuracy: \", accuracy_score(y_test, y_pred))\n",
    "    \n",
    "    print(\"\\n\")\n",
    "    print(\"Confusion matrix: \")\n",
    "\n",
    "    print(confusion_matrix(y_test, y_pred))\n",
    "    print(\"\\n\")\n",
    "    print(classification_report(y_test, y_pred))\n",
    "\n",
    "    #Predicting proba\n",
    "    y_pred_prob = model.predict_proba(X_test)[:,1]\n",
    "\n",
    "    # Generate ROC curve values: fpr, tpr, thresholds\n",
    "    fpr, tpr, thresholds = roc_curve(y_test, y_pred_prob)\n",
    "\n",
    "    # Plot ROC curve\n",
    "    plt.plot([0, 1], [0, 1], 'k--')\n",
    "    plt.plot(fpr, tpr)\n",
    "    plt.xlabel('False Positive Rate')\n",
    "    plt.ylabel('True Positive Rate')\n",
    "    plt.title('ROC Curve')\n",
    "    plt.show()\n",
    "    \n",
    "    print(\"ROC_AUC: \", roc_auc_score(y_test, y_pred_prob))\n",
    "    \n",
    "    if show_fairness_measures:\n",
    "        tn, fp, fn, tp = confusion_matrix(y_test, y_pred).ravel()\n",
    "        print(\"Group fairness: \", (tp + fp) / (tp + fp + tn + fn))\n",
    "        print(\"Separation with FPR: \", fp / (fp + tn))"
   ]
  },
  {
   "cell_type": "code",
   "execution_count": 8,
   "metadata": {},
   "outputs": [
    {
     "name": "stdout",
     "output_type": "stream",
     "text": [
      "Accuracy:  0.6527777777777778\n",
      "\n",
      "\n",
      "Confusion matrix: \n",
      "[[175  75]\n",
      " [ 50  60]]\n",
      "\n",
      "\n",
      "              precision    recall  f1-score   support\n",
      "\n",
      "           0       0.78      0.70      0.74       250\n",
      "           1       0.44      0.55      0.49       110\n",
      "\n",
      "    accuracy                           0.65       360\n",
      "   macro avg       0.61      0.62      0.61       360\n",
      "weighted avg       0.68      0.65      0.66       360\n",
      "\n"
     ]
    },
    {
     "data": {
      "image/png": "[encoded data removed]",
      "text/plain": [
       "<Figure size 432x288 with 1 Axes>"
      ]
     },
     "metadata": {
      "needs_background": "light"
     },
     "output_type": "display_data"
    },
    {
     "name": "stdout",
     "output_type": "stream",
     "text": [
      "ROC_AUC:  0.6782545454545456\n",
      "Group fairness:  0.375\n",
      "Separation with FPR:  0.3\n"
     ]
    }
   ],
   "source": [
    "get_training_result(df_credit, True)"
   ]
  },
  {
   "cell_type": "markdown",
   "metadata": {},
   "source": [
    "# Anti-classificaion"
   ]
  },
  {
   "cell_type": "markdown",
   "metadata": {},
   "source": [
    "## Sex"
   ]
  },
  {
   "cell_type": "code",
   "execution_count": 9,
   "metadata": {},
   "outputs": [
    {
     "name": "stdout",
     "output_type": "stream",
     "text": [
      "Accuracy:  0.6472222222222223\n",
      "\n",
      "\n",
      "Confusion matrix: \n",
      "[[177  73]\n",
      " [ 54  56]]\n",
      "\n",
      "\n",
      "              precision    recall  f1-score   support\n",
      "\n",
      "           0       0.77      0.71      0.74       250\n",
      "           1       0.43      0.51      0.47       110\n",
      "\n",
      "    accuracy                           0.65       360\n",
      "   macro avg       0.60      0.61      0.60       360\n",
      "weighted avg       0.66      0.65      0.65       360\n",
      "\n"
     ]
    },
    {
     "data": {
      "image/png": "[encoded data removed]",
      "text/plain": [
       "<Figure size 432x288 with 1 Axes>"
      ]
     },
     "metadata": {
      "needs_background": "light"
     },
     "output_type": "display_data"
    },
    {
     "name": "stdout",
     "output_type": "stream",
     "text": [
      "ROC_AUC:  0.6776\n"
     ]
    }
   ],
   "source": [
    "df_credit_without_sex = df_credit.copy()\n",
    "del df_credit_without_sex['Sex']\n",
    "get_training_result(df_credit_without_sex, False)"
   ]
  },
  {
   "cell_type": "markdown",
   "metadata": {},
   "source": [
    "## Age"
   ]
  },
  {
   "cell_type": "code",
   "execution_count": 10,
   "metadata": {},
   "outputs": [
    {
     "name": "stdout",
     "output_type": "stream",
     "text": [
      "Accuracy:  0.6916666666666667\n",
      "\n",
      "\n",
      "Confusion matrix: \n",
      "[[188  62]\n",
      " [ 49  61]]\n",
      "\n",
      "\n",
      "              precision    recall  f1-score   support\n",
      "\n",
      "           0       0.79      0.75      0.77       250\n",
      "           1       0.50      0.55      0.52       110\n",
      "\n",
      "    accuracy                           0.69       360\n",
      "   macro avg       0.64      0.65      0.65       360\n",
      "weighted avg       0.70      0.69      0.70       360\n",
      "\n"
     ]
    },
    {
     "data": {
      "image/png": "[encoded data removed]",
      "text/plain": [
       "<Figure size 432x288 with 1 Axes>"
      ]
     },
     "metadata": {
      "needs_background": "light"
     },
     "output_type": "display_data"
    },
    {
     "name": "stdout",
     "output_type": "stream",
     "text": [
      "ROC_AUC:  0.6943272727272727\n"
     ]
    }
   ],
   "source": [
    "df_credit_without_age = df_credit.copy()\n",
    "del df_credit_without_age['Age']\n",
    "del df_credit_without_age['Age_cat']\n",
    "del df_credit_without_age['Age_cat_Young']\n",
    "del df_credit_without_age['Age_cat_Adult']\n",
    "del df_credit_without_age['Age_cat_Senior']\n",
    "get_training_result(df_credit_without_age, False)"
   ]
  },
  {
   "cell_type": "markdown",
   "metadata": {},
   "source": [
    "# Group fairness and separation with FPR"
   ]
  },
  {
   "cell_type": "markdown",
   "metadata": {},
   "source": [
    "## Sex"
   ]
  },
  {
   "cell_type": "code",
   "execution_count": 11,
   "metadata": {},
   "outputs": [
    {
     "name": "stdout",
     "output_type": "stream",
     "text": [
      "Accuracy:  0.44642857142857145\n",
      "\n",
      "\n",
      "Confusion matrix: \n",
      "[[10 58]\n",
      " [ 4 40]]\n",
      "\n",
      "\n",
      "              precision    recall  f1-score   support\n",
      "\n",
      "           0       0.71      0.15      0.24        68\n",
      "           1       0.41      0.91      0.56        44\n",
      "\n",
      "    accuracy                           0.45       112\n",
      "   macro avg       0.56      0.53      0.40       112\n",
      "weighted avg       0.59      0.45      0.37       112\n",
      "\n"
     ]
    },
    {
     "data": {
      "image/png": "[encoded data removed]",
      "text/plain": [
       "<Figure size 432x288 with 1 Axes>"
      ]
     },
     "metadata": {
      "needs_background": "light"
     },
     "output_type": "display_data"
    },
    {
     "name": "stdout",
     "output_type": "stream",
     "text": [
      "ROC_AUC:  0.6554144385026738\n",
      "Group fairness:  0.875\n",
      "Separation with FPR:  0.8529411764705882\n"
     ]
    }
   ],
   "source": [
    "# female\n",
    "df_credit_female = df_credit[df_credit[\"Sex\"] == 0]\n",
    "get_training_result(df_credit_female)"
   ]
  },
  {
   "cell_type": "code",
   "execution_count": null,
   "metadata": {},
   "outputs": [],
   "source": []
  },
  {
   "cell_type": "code",
   "execution_count": 12,
   "metadata": {},
   "outputs": [
    {
     "name": "stdout",
     "output_type": "stream",
     "text": [
      "Accuracy:  0.6666666666666666\n",
      "\n",
      "\n",
      "Confusion matrix: \n",
      "[[128  60]\n",
      " [ 23  38]]\n",
      "\n",
      "\n",
      "              precision    recall  f1-score   support\n",
      "\n",
      "           0       0.85      0.68      0.76       188\n",
      "           1       0.39      0.62      0.48        61\n",
      "\n",
      "    accuracy                           0.67       249\n",
      "   macro avg       0.62      0.65      0.62       249\n",
      "weighted avg       0.74      0.67      0.69       249\n",
      "\n"
     ]
    },
    {
     "data": {
      "image/png": "[encoded data removed]",
      "text/plain": [
       "<Figure size 432x288 with 1 Axes>"
      ]
     },
     "metadata": {
      "needs_background": "light"
     },
     "output_type": "display_data"
    },
    {
     "name": "stdout",
     "output_type": "stream",
     "text": [
      "ROC_AUC:  0.6934949424485525\n",
      "Group fairness:  0.39357429718875503\n",
      "Separation with FPR:  0.3191489361702128\n"
     ]
    }
   ],
   "source": [
    "# male\n",
    "df_credit_male = df_credit[df_credit[\"Sex\"] == 1]\n",
    "get_training_result(df_credit_male)"
   ]
  },
  {
   "cell_type": "code",
   "execution_count": null,
   "metadata": {},
   "outputs": [],
   "source": []
  },
  {
   "cell_type": "markdown",
   "metadata": {},
   "source": [
    "## Age"
   ]
  },
  {
   "cell_type": "code",
   "execution_count": 13,
   "metadata": {},
   "outputs": [
    {
     "name": "stdout",
     "output_type": "stream",
     "text": [
      "Accuracy:  0.6367924528301887\n",
      "\n",
      "\n",
      "Confusion matrix: \n",
      "[[84 62]\n",
      " [15 51]]\n",
      "\n",
      "\n",
      "              precision    recall  f1-score   support\n",
      "\n",
      "           0       0.85      0.58      0.69       146\n",
      "           1       0.45      0.77      0.57        66\n",
      "\n",
      "    accuracy                           0.64       212\n",
      "   macro avg       0.65      0.67      0.63       212\n",
      "weighted avg       0.72      0.64      0.65       212\n",
      "\n"
     ]
    },
    {
     "data": {
      "image/png": "[encoded data removed]",
      "text/plain": [
       "<Figure size 432x288 with 1 Axes>"
      ]
     },
     "metadata": {
      "needs_background": "light"
     },
     "output_type": "display_data"
    },
    {
     "name": "stdout",
     "output_type": "stream",
     "text": [
      "ROC_AUC:  0.7238480697384807\n",
      "Group fairness:  0.5330188679245284\n",
      "Separation with FPR:  0.4246575342465753\n"
     ]
    }
   ],
   "source": [
    "# young people\n",
    "\n",
    "df_credit_young = df_credit[df_credit[\"Age_cat\"] == 0]\n",
    "get_training_result(df_credit_young)"
   ]
  },
  {
   "cell_type": "code",
   "execution_count": 14,
   "metadata": {},
   "outputs": [
    {
     "name": "stdout",
     "output_type": "stream",
     "text": [
      "Accuracy:  0.6912751677852349\n",
      "\n",
      "\n",
      "Confusion matrix: \n",
      "[[80 28]\n",
      " [18 23]]\n",
      "\n",
      "\n",
      "              precision    recall  f1-score   support\n",
      "\n",
      "           0       0.82      0.74      0.78       108\n",
      "           1       0.45      0.56      0.50        41\n",
      "\n",
      "    accuracy                           0.69       149\n",
      "   macro avg       0.63      0.65      0.64       149\n",
      "weighted avg       0.72      0.69      0.70       149\n",
      "\n"
     ]
    },
    {
     "data": {
      "image/png": "[encoded data removed]",
      "text/plain": [
       "<Figure size 432x288 with 1 Axes>"
      ]
     },
     "metadata": {
      "needs_background": "light"
     },
     "output_type": "display_data"
    },
    {
     "name": "stdout",
     "output_type": "stream",
     "text": [
      "ROC_AUC:  0.7021228545618791\n",
      "Group fairness:  0.3422818791946309\n",
      "Separation with FPR:  0.25925925925925924\n"
     ]
    }
   ],
   "source": [
    "# old people\n",
    "\n",
    "df_credit_old = df_credit[df_credit[\"Age_cat\"] == 1]\n",
    "get_training_result(df_credit_old)"
   ]
  },
  {
   "cell_type": "code",
   "execution_count": null,
   "metadata": {},
   "outputs": [],
   "source": []
  },
  {
   "cell_type": "markdown",
   "metadata": {},
   "source": [
    "# Improve fairness"
   ]
  },
  {
   "cell_type": "markdown",
   "metadata": {},
   "source": [
    "## Adjusting threshold"
   ]
  },
  {
   "cell_type": "markdown",
   "metadata": {},
   "source": [
    "### Sex"
   ]
  },
  {
   "cell_type": "code",
   "execution_count": 15,
   "metadata": {},
   "outputs": [],
   "source": [
    "def adjust_threshold(df, threshold = 0.5):\n",
    "    #Creating the X and y variables\n",
    "    X = df.drop('Risk_bad', 1).values\n",
    "    y = df[\"Risk_bad\"].values\n",
    "\n",
    "    # Spliting X and y into train and test version\n",
    "    X_train, X_test, y_train, y_test = train_test_split(X, y, test_size = 0.36, random_state=42)\n",
    "\n",
    "    # Criando o classificador logreg\n",
    "    GNB = GaussianNB()\n",
    "\n",
    "    # Fitting with train data\n",
    "    model = GNB.fit(X_train, y_train)\n",
    "\n",
    "    y_pred = (model.predict_proba(X_test)[:,1] >= threshold).astype(bool)\n",
    "\n",
    "    #Predicting proba\n",
    "    y_pred_prob = model.predict_proba(X_test)[:,1]\n",
    "\n",
    "    tn, fp, fn, tp = confusion_matrix(y_test, y_pred).ravel()\n",
    "    print(\"Accuracy: \", accuracy_score(y_test, y_pred))\n",
    "    print(\"Group fairness: \", (tp + fp) / (tp + fp + tn + fn))"
   ]
  },
  {
   "cell_type": "code",
   "execution_count": 16,
   "metadata": {},
   "outputs": [
    {
     "name": "stdout",
     "output_type": "stream",
     "text": [
      "Accuracy:  0.6666666666666666\n",
      "Group fairness:  0.39357429718875503\n"
     ]
    }
   ],
   "source": [
    "adjust_threshold(df_credit_male)"
   ]
  },
  {
   "cell_type": "code",
   "execution_count": 17,
   "metadata": {},
   "outputs": [
    {
     "name": "stdout",
     "output_type": "stream",
     "text": [
      "Accuracy:  0.5622489959839357\n",
      "Group fairness:  0.5381526104417671\n"
     ]
    }
   ],
   "source": [
    "adjust_threshold(df_credit_male, 0.2)"
   ]
  },
  {
   "cell_type": "code",
   "execution_count": 18,
   "metadata": {},
   "outputs": [
    {
     "name": "stdout",
     "output_type": "stream",
     "text": [
      "Accuracy:  0.44642857142857145\n",
      "Group fairness:  0.875\n"
     ]
    }
   ],
   "source": [
    "adjust_threshold(df_credit_female)"
   ]
  },
  {
   "cell_type": "markdown",
   "metadata": {},
   "source": [
    "### Age"
   ]
  },
  {
   "cell_type": "code",
   "execution_count": 19,
   "metadata": {},
   "outputs": [
    {
     "name": "stdout",
     "output_type": "stream",
     "text": [
      "Accuracy:  0.6912751677852349\n",
      "Group fairness:  0.3422818791946309\n"
     ]
    }
   ],
   "source": [
    "adjust_threshold(df_credit_old)"
   ]
  },
  {
   "cell_type": "code",
   "execution_count": 20,
   "metadata": {},
   "outputs": [
    {
     "name": "stdout",
     "output_type": "stream",
     "text": [
      "Accuracy:  0.6644295302013423\n",
      "Group fairness:  0.4228187919463087\n"
     ]
    }
   ],
   "source": [
    "adjust_threshold(df_credit_old, 0.2)"
   ]
  },
  {
   "cell_type": "code",
   "execution_count": 21,
   "metadata": {},
   "outputs": [
    {
     "name": "stdout",
     "output_type": "stream",
     "text": [
      "Accuracy:  0.6367924528301887\n",
      "Group fairness:  0.5330188679245284\n"
     ]
    }
   ],
   "source": [
    "adjust_threshold(df_credit_young)"
   ]
  },
  {
   "cell_type": "markdown",
   "metadata": {},
   "source": [
    "## Separation"
   ]
  },
  {
   "cell_type": "markdown",
   "metadata": {},
   "source": [
    "### Sex"
   ]
  },
  {
   "cell_type": "code",
   "execution_count": 22,
   "metadata": {},
   "outputs": [],
   "source": [
    "def separation(df, show_fairness_measures = True):\n",
    "    #Creating the X and y variables\n",
    "    X = df.drop('Risk_bad', 1).values\n",
    "    y = df[\"Risk_bad\"].values\n",
    "\n",
    "    # Spliting X and y into train and test version\n",
    "    X_train, X_test, y_train, y_test = train_test_split(X, y, test_size = 0.36, random_state=42)\n",
    "\n",
    "    # Criando o classificador logreg\n",
    "    GNB = GaussianNB()\n",
    "\n",
    "    # Fitting with train data\n",
    "    model = GNB.fit(X_train, y_train)\n",
    "\n",
    "\n",
    "    y_pred = model.predict(X_test)\n",
    "\n",
    "\n",
    "    #Predicting proba\n",
    "    y_pred_prob = model.predict_proba(X_test)[:,1]\n",
    "\n",
    "    # Generate ROC curve values: fpr, tpr, thresholds\n",
    "    fpr, tpr, thresholds = roc_curve(y_test, y_pred_prob)\n",
    "    \n",
    "    tn, fp, fn, tp = confusion_matrix(y_test, y_pred).ravel()\n",
    "    print(\"Accuracy: \", accuracy_score(y_test, y_pred))\n",
    "    print(\"Separation with FPR: \", fp / (fp + tn))"
   ]
  },
  {
   "cell_type": "code",
   "execution_count": 23,
   "metadata": {},
   "outputs": [],
   "source": [
    "df_credit_append_female = df_credit.append(df_credit_female)"
   ]
  },
  {
   "cell_type": "code",
   "execution_count": 24,
   "metadata": {},
   "outputs": [],
   "source": [
    "new_female = df_credit_append_female[df_credit_append_female[\"Sex\"] == 0]"
   ]
  },
  {
   "cell_type": "code",
   "execution_count": 25,
   "metadata": {},
   "outputs": [
    {
     "name": "stdout",
     "output_type": "stream",
     "text": [
      "Accuracy:  0.6473214285714286\n",
      "Separation with FPR:  0.4228187919463087\n"
     ]
    }
   ],
   "source": [
    "separation(new_female)"
   ]
  },
  {
   "cell_type": "code",
   "execution_count": 26,
   "metadata": {},
   "outputs": [
    {
     "name": "stdout",
     "output_type": "stream",
     "text": [
      "Accuracy:  0.44642857142857145\n",
      "Separation with FPR:  0.8529411764705882\n"
     ]
    }
   ],
   "source": [
    "separation(df_credit_female)"
   ]
  },
  {
   "cell_type": "code",
   "execution_count": 27,
   "metadata": {},
   "outputs": [
    {
     "name": "stdout",
     "output_type": "stream",
     "text": [
      "Accuracy:  0.6666666666666666\n",
      "Separation with FPR:  0.3191489361702128\n"
     ]
    }
   ],
   "source": [
    "separation(df_credit_male)"
   ]
  },
  {
   "cell_type": "code",
   "execution_count": null,
   "metadata": {},
   "outputs": [],
   "source": []
  },
  {
   "cell_type": "markdown",
   "metadata": {},
   "source": [
    "### Age"
   ]
  },
  {
   "cell_type": "code",
   "execution_count": 28,
   "metadata": {},
   "outputs": [],
   "source": [
    "df_credit_append_young = df_credit.append(df_credit_young)"
   ]
  },
  {
   "cell_type": "code",
   "execution_count": 29,
   "metadata": {},
   "outputs": [],
   "source": [
    "new_young = df_credit_append_young[df_credit_append_young[\"Age_cat\"] == 0]"
   ]
  },
  {
   "cell_type": "code",
   "execution_count": 30,
   "metadata": {},
   "outputs": [
    {
     "name": "stdout",
     "output_type": "stream",
     "text": [
      "Accuracy:  0.6792452830188679\n",
      "Separation with FPR:  0.3235294117647059\n"
     ]
    }
   ],
   "source": [
    "separation(new_young)"
   ]
  },
  {
   "cell_type": "code",
   "execution_count": 31,
   "metadata": {},
   "outputs": [
    {
     "name": "stdout",
     "output_type": "stream",
     "text": [
      "Accuracy:  0.6367924528301887\n",
      "Separation with FPR:  0.4246575342465753\n"
     ]
    }
   ],
   "source": [
    "separation(df_credit_young)"
   ]
  },
  {
   "cell_type": "code",
   "execution_count": 32,
   "metadata": {},
   "outputs": [
    {
     "name": "stdout",
     "output_type": "stream",
     "text": [
      "Accuracy:  0.6912751677852349\n",
      "Separation with FPR:  0.25925925925925924\n"
     ]
    }
   ],
   "source": [
    "separation(df_credit_old)"
   ]
  },
  {
   "cell_type": "code",
   "execution_count": null,
   "metadata": {},
   "outputs": [],
   "source": []
  },
  {
   "cell_type": "code",
   "execution_count": null,
   "metadata": {},
   "outputs": [],
   "source": []
  }
 ],
 "metadata": {
  "kernelspec": {
   "display_name": "Python 3",
   "language": "python",
   "name": "python3"
  },
  "language_info": {
   "codemirror_mode": {
    "name": "ipython",
    "version": 3
   },
   "file_extension": ".py",
   "mimetype": "text/x-python",
   "name": "python",
   "nbconvert_exporter": "python",
   "pygments_lexer": "ipython3",
   "version": "3.8.3"
  }
 },
 "nbformat": 4,
 "nbformat_minor": 4
}
